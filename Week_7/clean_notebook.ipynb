{
 "cells": [
  {
   "cell_type": "markdown",
   "metadata": {},
   "source": [
    "# Clean Notebook\n",
    "\n",
    "Todo:\n",
    "- Copy Code from midterm\n",
    "- write loop\n",
    "- write function\n",
    "- clean up"
   ]
  },
  {
   "attachments": {},
   "cell_type": "markdown",
   "metadata": {},
   "source": [
    "## Maggie's Stuff"
   ]
  },
  {
   "cell_type": "code",
   "execution_count": null,
   "metadata": {},
   "outputs": [],
   "source": [
    "# MAGGIE MAGGIE MAGGIE"
   ]
  },
  {
   "attachments": {},
   "cell_type": "markdown",
   "metadata": {},
   "source": [
    "## Seth's Landcover Stuff"
   ]
  },
  {
   "cell_type": "code",
   "execution_count": null,
   "metadata": {},
   "outputs": [],
   "source": [
    "#import necessary packages\n",
    "# Rasterio documentation can be found at https://rasterio.readthedocs.io/en/latest/\n",
    "\n",
    "import numpy as np\n",
    "import rasterio\n",
    "import rasterio.plot\n",
    "import pandas as pd\n",
    "\n",
    "\n",
    "# import plotting libraries\n",
    "import matplotlib.pyplot as plt\n",
    "from matplotlib.colors import ListedColormap\n",
    "from matplotlib.patches import Patch\n",
    "\n",
    "import contextily as ctx\n",
    "\n",
    "years = [2004, 2019] # create a list of the comparison years to loop over\n",
    "data = {} # Create an empty dictionary to save the raster dataset to \n",
    "data_masked = {} # Create empty dictionary to save masked numpy array to\n",
    "\n",
    "#Loop through years specified to create data needed to plot\n",
    "for year in years:\n",
    "    data[year] = rasterio.open(f'data/NLCD/NLCD_{str(year)}_Land_Cover_L48_20210604_gyGbthZM9gweVLuKaW5e.tiff') # open raster and create element in 'data' dict.\n",
    "    data_masked[year] = np.ma.masked_where(data[year].read(1)!=11, data[year].read(1)) # mask raster to show only were data is '11' (Open Water)\n",
    "\n",
    "\n",
    "# ### Mapping Change in Water Cover\n",
    "# \n",
    "# Now that we have our data prepared and masked we can overlay the 2004 and 2019 data we can overlay them to highlight the areas where there used to be water but is now dry lakebed.\n",
    "\n",
    "# %%\n",
    "fig, ax = plt.subplots(figsize=(15,10)) # create a figure and axis object to map onto and set the figure size.\n",
    "plt.imshow(data_masked[years[1]], extent=rasterio.plot.plotting_extent(data[years[1]]), cmap=ListedColormap(['blue']), zorder= 15) #plot data, set extent to geography, set color and drawing order\n",
    "plt.imshow(data_masked[years[0]], extent=rasterio.plot.plotting_extent(data[years[0]]), cmap=ListedColormap(['red']), zorder= 10)\n",
    "\n",
    "# creates legend items\n",
    "handles = [\n",
    "    Patch(color='red', label='2004 Water Area'),\n",
    "    Patch(color='blue', label='2019 Water Area')\n",
    "]\n",
    "\n",
    "ctx.add_basemap(ax, crs=dataset_2019.read_crs(), source=ctx.providers.Esri.WorldImagery, zorder=5)\n",
    "plt.axis('off')\n",
    "plt.title('2004 and 2019 Open Water Area')\n",
    "ax.legend(handles=handles)\n",
    "\n",
    "plt.show()\n",
    "\n",
    "# %% [markdown]\n",
    "# This highlights the significant change in water area of the Salton Sea over this time period, but can we quantify it? \n",
    "# \n",
    "# We can with some numpy calculations! The individual pixel/cell size from NLCD is 30m by 30m, and we can count the number of cells of water in each year and calculate the difference.\n",
    "\n",
    "# %%\n",
    "count_19 = np.count_nonzero(data[2019].read(1) == 11)\n",
    "count_04 = np.count_nonzero(data[2004].read(1) == 11)\n",
    "\n",
    "sq_km = (count_04 - count_19)*900/1e6\n",
    "\n",
    "print(f'The area surface area of water lost between 2004 and 2019 was {sq_km} square kilometers.')\n",
    "\n",
    "# %% [markdown]\n",
    "# That doesn't sound like a ton off the bat, but in perspective that is 12,793 football fields of area! That is a ton of water lost, and a ton of exposed dust and desert.\n",
    "# \n",
    "# Now let's make a graph to see the land cover area for all categories side by side.\n",
    "\n",
    "# %%\n",
    "# Open the data dictionary and save it as a normal python dictionary for \n",
    "\n",
    "data_dict = pd.read_csv('data/NLCD/NLCD_landcover_legend_2018_12_17_gyGbthZM9gweVLuKaW5e.csv')\n",
    "data_dict.dropna(axis=0, inplace=True) # Drop values with no legend information\n",
    "legend = dict(zip(data_dict['Value'], data_dict['Legend'])) # save values and legend item as a dictionary for ease of use later.\n",
    "\n",
    "# %%\n",
    "# Create numpy arrays that are labeled instead of just as integers\n",
    "labeled_data = {} #create an empty dict to fill\n",
    "for year in years:\n",
    "    labeled_data[year] = np.vectorize(legend.get)(data[year].read(1)) # fill dict item with np array where elements are labeled strings\n",
    "\n",
    "# %%\n",
    "# count cells of each land cover type for each year\n",
    "counts_04 = np.unique(labeled_data[2004], return_counts=True)\n",
    "counts_19 = np.unique(labeled_data[2019], return_counts=True)\n",
    "\n",
    "# %%\n",
    "# Create dataframe with landcover type and count for each year\n",
    "df = pd.DataFrame(list(zip(counts_04[0],counts_04[1], counts_19[1])), columns=['landcover', '2004', '2019']) \n",
    "df['2004'] = df['2004']*900/1e6 # calculate as area in sq km\n",
    "df['2019'] = df['2019']*900/1e6\n",
    "df.head()\n",
    "\n",
    "# %%\n",
    "df_long = pd.melt(df, id_vars='landcover', value_vars=['2004','2019']) # convert to a \"long\" data frame that is better for plotting side by side\n",
    "\n",
    "# %%\n",
    "# Plot the land cover area as a bar chart side by side\n",
    "import seaborn as sns\n",
    "fig, ax = plt.subplots(figsize=(15,10))\n",
    "\n",
    "sns.barplot( \n",
    "    ax=ax, data=df_long,\n",
    "    x='landcover', y='value', hue='variable',\n",
    "    palette='dark', alpha=.6,\n",
    ")\n",
    "plt.xlabel('Land Cover', fontsize=12)\n",
    "plt.ylabel('Area of Land (square km)', fontsize=12)\n",
    "plt.xticks(rotation=45)\n",
    "ax.get_xaxis"
   ]
  },
  {
   "attachments": {},
   "cell_type": "markdown",
   "metadata": {},
   "source": [
    "## Miriam's Stuff"
   ]
  },
  {
   "cell_type": "code",
   "execution_count": null,
   "metadata": {},
   "outputs": [],
   "source": []
  },
  {
   "attachments": {},
   "cell_type": "markdown",
   "metadata": {},
   "source": [
    "## Tiffany's Stuff"
   ]
  },
  {
   "cell_type": "code",
   "execution_count": null,
   "metadata": {},
   "outputs": [],
   "source": []
  },
  {
   "cell_type": "markdown",
   "metadata": {},
   "source": []
  }
 ],
 "metadata": {
  "kernelspec": {
   "display_name": "Python 3 (ipykernel)",
   "language": "python",
   "name": "python3"
  },
  "language_info": {
   "codemirror_mode": {
    "name": "ipython",
    "version": 3
   },
   "file_extension": ".py",
   "mimetype": "text/x-python",
   "name": "python",
   "nbconvert_exporter": "python",
   "pygments_lexer": "ipython3",
   "version": "3.10.8"
  },
  "vscode": {
   "interpreter": {
    "hash": "6e9f3914a0d4a30cc7373a436d7ad0c4ba03867b2ec958722501e2ad2b568661"
   }
  }
 },
 "nbformat": 4,
 "nbformat_minor": 4
}

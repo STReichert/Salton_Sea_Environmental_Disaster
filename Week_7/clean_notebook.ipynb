{
 "cells": [
  {
   "cell_type": "markdown",
   "metadata": {},
   "source": [
    "# Clean Notebook\n",
    "\n",
    "Todo:\n",
    "- Copy Code from midterm\n",
    "- write loop\n",
    "- write function\n",
    "- clean up"
   ]
  },
  {
   "cell_type": "code",
   "execution_count": null,
   "metadata": {},
   "outputs": [],
   "source": [
    "# MAGGIE MAGGIE MAGGIE"
   ]
  },
  {
   "cell_type": "code",
   "execution_count": null,
   "metadata": {},
   "outputs": [],
   "source": []
  }
 ],
 "metadata": {
  "kernelspec": {
   "display_name": "Python 3 (ipykernel)",
   "language": "python",
   "name": "python3"
  },
  "language_info": {
   "codemirror_mode": {
    "name": "ipython",
    "version": 3
   },
   "file_extension": ".py",
   "mimetype": "text/x-python",
   "name": "python",
   "nbconvert_exporter": "python",
   "pygments_lexer": "ipython3",
   "version": "3.10.8"
  },
  "vscode": {
   "interpreter": {
    "hash": "6e9f3914a0d4a30cc7373a436d7ad0c4ba03867b2ec958722501e2ad2b568661"
   }
  }
 },
 "nbformat": 4,
 "nbformat_minor": 4
}

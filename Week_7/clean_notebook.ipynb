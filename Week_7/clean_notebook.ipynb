{
 "cells": [
  {
   "attachments": {},
   "cell_type": "markdown",
   "metadata": {},
   "source": [
    "# Clean Notebook\n",
    "\n",
    "Todo:\n",
    "- Copy Code from midterm\n",
    "- write loop\n",
    "- write function\n",
    "- clean up"
   ]
  },
  {
   "cell_type": "code",
   "execution_count": null,
   "metadata": {},
   "outputs": [],
   "source": []
  }
 ],
 "metadata": {
  "kernelspec": {
   "display_name": "uds",
   "language": "python",
   "name": "python3"
  },
  "language_info": {
   "name": "python",
   "version": "3.8.13"
  },
  "orig_nbformat": 4,
  "vscode": {
   "interpreter": {
    "hash": "6e9f3914a0d4a30cc7373a436d7ad0c4ba03867b2ec958722501e2ad2b568661"
   }
  }
 },
 "nbformat": 4,
 "nbformat_minor": 2
}
